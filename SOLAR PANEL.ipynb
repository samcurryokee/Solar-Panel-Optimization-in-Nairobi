{
 "cells": [
  {
   "cell_type": "markdown",
   "metadata": {},
   "source": [
    "## DATA UNDERSTANDING"
   ]
  },
  {
   "cell_type": "markdown",
   "metadata": {},
   "source": [
    "In this section, we upload the data and conduct a surface analysis where we check its shape and check for null values before proceeding."
   ]
  },
  {
   "cell_type": "code",
   "execution_count": 1,
   "metadata": {},
   "outputs": [
    {
     "name": "stdout",
     "output_type": "stream",
     "text": [
      "                                     ï»¿uuid     City  Surface_area  \\\n",
      "0       87100c54-0648-4e73-97f0-3a346c068231  Nairobi        204.53   \n",
      "1       b79fedd1-7c84-4b3f-8fd4-941f3ee17b02  Nairobi       1113.35   \n",
      "2       50ece267-f41a-4bb7-8874-3bf61a9d4aec  Nairobi        577.24   \n",
      "3       df402f1c-5120-4a2f-bb8f-c72c89666c6f  Nairobi         28.58   \n",
      "4       c4d03ac6-80ed-4aa5-95c3-a730c1bf8e68  Nairobi         19.03   \n",
      "...                                      ...      ...           ...   \n",
      "272746  05f945d2-946f-4079-9108-2b0e23328bbe  Nairobi         36.78   \n",
      "272747  b66554f5-173c-46d0-80c0-19b5e3ef04ab  Nairobi        181.87   \n",
      "272748  abb75046-2851-4c62-a123-7d052a098c7b  Nairobi        164.34   \n",
      "272749  d5238d1b-b7f1-47ed-bda8-7d815cee01d4  Nairobi        173.43   \n",
      "272750  91f9e7ba-e889-45bc-8f73-603a3a8f203e  Nairobi         34.70   \n",
      "\n",
      "        Potential_installable_area  Peak_installable_capacity  \\\n",
      "0                            77.27                      14.99   \n",
      "1                           676.13                     131.17   \n",
      "2                           412.30                      79.99   \n",
      "3                            14.17                       2.75   \n",
      "4                             6.19                       1.20   \n",
      "...                            ...                        ...   \n",
      "272746                        0.00                       0.00   \n",
      "272747                      109.44                      21.23   \n",
      "272748                       94.38                      18.31   \n",
      "272749                       99.64                      19.33   \n",
      "272750                       16.49                       3.20   \n",
      "\n",
      "        Energy_potential_per_year      Assumed_building_type  Estimated_tilt  \\\n",
      "0                        21720.76  single family residential           14.11   \n",
      "1                       182191.10  single family residential           21.81   \n",
      "2                       115637.95  single family residential           16.34   \n",
      "3                         3723.02  single family residential           23.71   \n",
      "4                         1655.39  single family residential           22.91   \n",
      "...                           ...                        ...             ...   \n",
      "272746                       0.00  single family residential           11.97   \n",
      "272747                   31274.44  single family residential           18.37   \n",
      "272748                   27153.65  single family residential            9.59   \n",
      "272749                   27911.63  single family residential           16.14   \n",
      "272750                    4707.86  single family residential           15.12   \n",
      "\n",
      "        Estimated_building_height  Estimated_capacity_factor  \\\n",
      "0                            9.09                    1449.00   \n",
      "1                            5.57                    1388.98   \n",
      "2                            5.78                    1445.72   \n",
      "3                            4.04                    1354.60   \n",
      "4                            5.31                    1378.00   \n",
      "...                           ...                        ...   \n",
      "272746                       2.55                        NaN   \n",
      "272747                       3.04                    1473.00   \n",
      "272748                       4.59                    1483.00   \n",
      "272749                       4.92                    1444.00   \n",
      "272750                       4.21                    1471.67   \n",
      "\n",
      "        Unit_installation_price Comment  \n",
      "0                           NaN     NaN  \n",
      "1                           NaN     NaN  \n",
      "2                           NaN     NaN  \n",
      "3                           NaN     NaN  \n",
      "4                           NaN     NaN  \n",
      "...                         ...     ...  \n",
      "272746                      NaN     NaN  \n",
      "272747                      NaN     NaN  \n",
      "272748                      NaN     NaN  \n",
      "272749                      NaN     NaN  \n",
      "272750                      NaN     NaN  \n",
      "\n",
      "[272751 rows x 12 columns]\n"
     ]
    },
    {
     "name": "stderr",
     "output_type": "stream",
     "text": [
      "C:\\Users\\User-ADMIN\\AppData\\Local\\Temp\\ipykernel_8872\\4171717397.py:8: DtypeWarning: Columns (11) have mixed types. Specify dtype option on import or set low_memory=False.\n",
      "  df = pd.read_csv(file_path, encoding='latin-1')\n"
     ]
    }
   ],
   "source": [
    "import pandas as pd\n",
    "\n",
    "# Replace 'your_file.csv' with the actual path to your CSV file\n",
    "file_path = \"./nairobi_rooftop_solar_potential.csv\"\n",
    "\n",
    "\n",
    "# Load the CSV file into a pandas DataFrame\n",
    "df = pd.read_csv(file_path, encoding='latin-1')\n",
    "\n",
    "# Display the DataFrame\n",
    "print(df)\n"
   ]
  },
  {
   "cell_type": "code",
   "execution_count": 2,
   "metadata": {},
   "outputs": [
    {
     "name": "stdout",
     "output_type": "stream",
     "text": [
      "Previewing dataset:\n",
      "                                   uuid     City  Surface_area  \\\n",
      "0  87100c54-0648-4e73-97f0-3a346c068231  Nairobi        204.53   \n",
      "1  b79fedd1-7c84-4b3f-8fd4-941f3ee17b02  Nairobi       1113.35   \n",
      "2  50ece267-f41a-4bb7-8874-3bf61a9d4aec  Nairobi        577.24   \n",
      "3  df402f1c-5120-4a2f-bb8f-c72c89666c6f  Nairobi         28.58   \n",
      "4  c4d03ac6-80ed-4aa5-95c3-a730c1bf8e68  Nairobi         19.03   \n",
      "\n",
      "   Potential_installable_area  Peak_installable_capacity  \\\n",
      "0                       77.27                      14.99   \n",
      "1                      676.13                     131.17   \n",
      "2                      412.30                      79.99   \n",
      "3                       14.17                       2.75   \n",
      "4                        6.19                       1.20   \n",
      "\n",
      "   Energy_potential_per_year      Assumed_building_type  Estimated_tilt  \\\n",
      "0                   21720.76  single family residential           14.11   \n",
      "1                  182191.10  single family residential           21.81   \n",
      "2                  115637.95  single family residential           16.34   \n",
      "3                    3723.02  single family residential           23.71   \n",
      "4                    1655.39  single family residential           22.91   \n",
      "\n",
      "   Estimated_building_height  Estimated_capacity_factor  \\\n",
      "0                       9.09                    1449.00   \n",
      "1                       5.57                    1388.98   \n",
      "2                       5.78                    1445.72   \n",
      "3                       4.04                    1354.60   \n",
      "4                       5.31                    1378.00   \n",
      "\n",
      "   Unit_installation_price Comment  \n",
      "0                      NaN     NaN  \n",
      "1                      NaN     NaN  \n",
      "2                      NaN     NaN  \n",
      "3                      NaN     NaN  \n",
      "4                      NaN     NaN  \n",
      "\n",
      "Dataset Summary:\n",
      "<class 'pandas.core.frame.DataFrame'>\n",
      "RangeIndex: 272751 entries, 0 to 272750\n",
      "Data columns (total 12 columns):\n",
      " #   Column                      Non-Null Count   Dtype  \n",
      "---  ------                      --------------   -----  \n",
      " 0   uuid                        272751 non-null  object \n",
      " 1   City                        272751 non-null  object \n",
      " 2   Surface_area                272751 non-null  float64\n",
      " 3   Potential_installable_area  272751 non-null  float64\n",
      " 4   Peak_installable_capacity   272751 non-null  float64\n",
      " 5   Energy_potential_per_year   272751 non-null  float64\n",
      " 6   Assumed_building_type       272751 non-null  object \n",
      " 7   Estimated_tilt              272751 non-null  float64\n",
      " 8   Estimated_building_height   272721 non-null  float64\n",
      " 9   Estimated_capacity_factor   269249 non-null  float64\n",
      " 10  Unit_installation_price     0 non-null       float64\n",
      " 11  Comment                     2 non-null       object \n",
      "dtypes: float64(8), object(4)\n",
      "memory usage: 25.0+ MB\n",
      "None\n"
     ]
    },
    {
     "name": "stderr",
     "output_type": "stream",
     "text": [
      "C:\\Users\\User-ADMIN\\AppData\\Local\\Temp\\ipykernel_8872\\3957510498.py:14: DtypeWarning: Columns (11) have mixed types. Specify dtype option on import or set low_memory=False.\n",
      "  df = pd.read_csv(file_path)\n"
     ]
    }
   ],
   "source": [
    "#Call a function to preview the dataset at hand \n",
    "import pandas as pd\n",
    "\n",
    "def preview_dataset(file_path, num_rows=5):\n",
    "    \"\"\"\n",
    "    Preview the dataset located at the specified file path.\n",
    "    \n",
    "    Parameters:\n",
    "        file_path (str): The path to the dataset file.\n",
    "        num_rows (int): Number of rows to display (default is 5).\n",
    "    \"\"\"\n",
    "    try:\n",
    "        # Read the dataset into a Pandas DataFrame\n",
    "        df = pd.read_csv(file_path)\n",
    "        \n",
    "        # Display the first few rows of the DataFrame\n",
    "        print(\"Previewing dataset:\")\n",
    "        print(df.head(num_rows))\n",
    "        \n",
    "        # Display summary information about the dataset\n",
    "        print(\"\\nDataset Summary:\")\n",
    "        print(df.info())\n",
    "        \n",
    "    except Exception as e:\n",
    "        print(\"An error occurred:\", e)\n",
    "\n",
    "# Example usage:\n",
    "file_path = \"./nairobi_rooftop_solar_potential.csv\"\n",
    "preview_dataset(file_path)\n"
   ]
  },
  {
   "cell_type": "markdown",
   "metadata": {},
   "source": [
    "## DATA CLEANING"
   ]
  },
  {
   "cell_type": "code",
   "execution_count": 3,
   "metadata": {},
   "outputs": [],
   "source": [
    "#Check the preview of the dataframe\n",
    "import pandas as pd\n",
    "\n",
    "def preview_dataframe(dataframe, num_rows=5):\n",
    "    \"\"\"\n",
    "    Preview the specified Pandas DataFrame.\n",
    "    \n",
    "    Parameters:\n",
    "        dataframe (pd.DataFrame): The DataFrame to preview.\n",
    "        num_rows (int): Number of rows to display (default is 5).\n",
    "    \"\"\"\n",
    "    print(\"Previewing DataFrame:\")\n",
    "    print(dataframe.head(num_rows))\n",
    "\n",
    "# Example usage:\n",
    "# Assuming df is your DataFrame\n",
    "# df = pd.read_csv(\"your_dataset.csv\")\n",
    "# preview_dataframe(df)\n",
    "\n",
    "\n"
   ]
  },
  {
   "cell_type": "code",
   "execution_count": 4,
   "metadata": {},
   "outputs": [
    {
     "name": "stdout",
     "output_type": "stream",
     "text": [
      "Previewing DataFrame:\n",
      "                                ï»¿uuid     City  Surface_area  \\\n",
      "0  87100c54-0648-4e73-97f0-3a346c068231  Nairobi        204.53   \n",
      "1  b79fedd1-7c84-4b3f-8fd4-941f3ee17b02  Nairobi       1113.35   \n",
      "2  50ece267-f41a-4bb7-8874-3bf61a9d4aec  Nairobi        577.24   \n",
      "3  df402f1c-5120-4a2f-bb8f-c72c89666c6f  Nairobi         28.58   \n",
      "4  c4d03ac6-80ed-4aa5-95c3-a730c1bf8e68  Nairobi         19.03   \n",
      "\n",
      "   Potential_installable_area  Peak_installable_capacity  \\\n",
      "0                       77.27                      14.99   \n",
      "1                      676.13                     131.17   \n",
      "2                      412.30                      79.99   \n",
      "3                       14.17                       2.75   \n",
      "4                        6.19                       1.20   \n",
      "\n",
      "   Energy_potential_per_year      Assumed_building_type  Estimated_tilt  \\\n",
      "0                   21720.76  single family residential           14.11   \n",
      "1                  182191.10  single family residential           21.81   \n",
      "2                  115637.95  single family residential           16.34   \n",
      "3                    3723.02  single family residential           23.71   \n",
      "4                    1655.39  single family residential           22.91   \n",
      "\n",
      "   Estimated_building_height  Estimated_capacity_factor  \\\n",
      "0                       9.09                    1449.00   \n",
      "1                       5.57                    1388.98   \n",
      "2                       5.78                    1445.72   \n",
      "3                       4.04                    1354.60   \n",
      "4                       5.31                    1378.00   \n",
      "\n",
      "   Unit_installation_price Comment  \n",
      "0                      NaN     NaN  \n",
      "1                      NaN     NaN  \n",
      "2                      NaN     NaN  \n",
      "3                      NaN     NaN  \n",
      "4                      NaN     NaN  \n"
     ]
    }
   ],
   "source": [
    "#checking the preview of the dataframe\n",
    "preview_dataframe(df)"
   ]
  },
  {
   "cell_type": "code",
   "execution_count": 5,
   "metadata": {},
   "outputs": [
    {
     "name": "stdout",
     "output_type": "stream",
     "text": [
      "\n",
      "No duplicate rows found.\n"
     ]
    }
   ],
   "source": [
    "\n",
    "# Check for duplicate rows\n",
    "duplicate_rows = df[df.duplicated()]\n",
    "\n",
    "if not duplicate_rows.empty:\n",
    "    print(\"\\nDuplicate rows found:\")\n",
    "    print(duplicate_rows)\n",
    "else:\n",
    "    print(\"\\nNo duplicate rows found.\")\n"
   ]
  },
  {
   "cell_type": "code",
   "execution_count": 6,
   "metadata": {},
   "outputs": [
    {
     "name": "stdout",
     "output_type": "stream",
     "text": [
      "ï»¿uuid                            0\n",
      "City                               0\n",
      "Surface_area                       0\n",
      "Potential_installable_area         0\n",
      "Peak_installable_capacity          0\n",
      "Energy_potential_per_year          0\n",
      "Assumed_building_type              0\n",
      "Estimated_tilt                     0\n",
      "Estimated_building_height         30\n",
      "Estimated_capacity_factor       3502\n",
      "Unit_installation_price       272751\n",
      "Comment                       272749\n",
      "dtype: int64\n"
     ]
    }
   ],
   "source": [
    "#checking for total null values in the dataset\n",
    "missing_values=df.isnull().sum()\n",
    "print(missing_values)"
   ]
  },
  {
   "cell_type": "code",
   "execution_count": 7,
   "metadata": {},
   "outputs": [
    {
     "data": {
      "text/plain": [
       "(272751, 12)"
      ]
     },
     "execution_count": 7,
     "metadata": {},
     "output_type": "execute_result"
    }
   ],
   "source": [
    "df.shape"
   ]
  },
  {
   "cell_type": "code",
   "execution_count": 8,
   "metadata": {},
   "outputs": [
    {
     "data": {
      "text/html": [
       "<div>\n",
       "<style scoped>\n",
       "    .dataframe tbody tr th:only-of-type {\n",
       "        vertical-align: middle;\n",
       "    }\n",
       "\n",
       "    .dataframe tbody tr th {\n",
       "        vertical-align: top;\n",
       "    }\n",
       "\n",
       "    .dataframe thead th {\n",
       "        text-align: right;\n",
       "    }\n",
       "</style>\n",
       "<table border=\"1\" class=\"dataframe\">\n",
       "  <thead>\n",
       "    <tr style=\"text-align: right;\">\n",
       "      <th></th>\n",
       "      <th>ï»¿uuid</th>\n",
       "      <th>City</th>\n",
       "      <th>Surface_area</th>\n",
       "      <th>Potential_installable_area</th>\n",
       "      <th>Peak_installable_capacity</th>\n",
       "      <th>Energy_potential_per_year</th>\n",
       "      <th>Assumed_building_type</th>\n",
       "      <th>Estimated_tilt</th>\n",
       "      <th>Estimated_building_height</th>\n",
       "      <th>Estimated_capacity_factor</th>\n",
       "      <th>Unit_installation_price</th>\n",
       "      <th>Comment</th>\n",
       "    </tr>\n",
       "  </thead>\n",
       "  <tbody>\n",
       "    <tr>\n",
       "      <th>0</th>\n",
       "      <td>87100c54-0648-4e73-97f0-3a346c068231</td>\n",
       "      <td>Nairobi</td>\n",
       "      <td>204.53</td>\n",
       "      <td>77.27</td>\n",
       "      <td>14.99</td>\n",
       "      <td>21720.76</td>\n",
       "      <td>single family residential</td>\n",
       "      <td>14.11</td>\n",
       "      <td>9.09</td>\n",
       "      <td>1449.00</td>\n",
       "      <td>NaN</td>\n",
       "      <td>NaN</td>\n",
       "    </tr>\n",
       "    <tr>\n",
       "      <th>1</th>\n",
       "      <td>b79fedd1-7c84-4b3f-8fd4-941f3ee17b02</td>\n",
       "      <td>Nairobi</td>\n",
       "      <td>1113.35</td>\n",
       "      <td>676.13</td>\n",
       "      <td>131.17</td>\n",
       "      <td>182191.10</td>\n",
       "      <td>single family residential</td>\n",
       "      <td>21.81</td>\n",
       "      <td>5.57</td>\n",
       "      <td>1388.98</td>\n",
       "      <td>NaN</td>\n",
       "      <td>NaN</td>\n",
       "    </tr>\n",
       "    <tr>\n",
       "      <th>2</th>\n",
       "      <td>50ece267-f41a-4bb7-8874-3bf61a9d4aec</td>\n",
       "      <td>Nairobi</td>\n",
       "      <td>577.24</td>\n",
       "      <td>412.30</td>\n",
       "      <td>79.99</td>\n",
       "      <td>115637.95</td>\n",
       "      <td>single family residential</td>\n",
       "      <td>16.34</td>\n",
       "      <td>5.78</td>\n",
       "      <td>1445.72</td>\n",
       "      <td>NaN</td>\n",
       "      <td>NaN</td>\n",
       "    </tr>\n",
       "    <tr>\n",
       "      <th>3</th>\n",
       "      <td>df402f1c-5120-4a2f-bb8f-c72c89666c6f</td>\n",
       "      <td>Nairobi</td>\n",
       "      <td>28.58</td>\n",
       "      <td>14.17</td>\n",
       "      <td>2.75</td>\n",
       "      <td>3723.02</td>\n",
       "      <td>single family residential</td>\n",
       "      <td>23.71</td>\n",
       "      <td>4.04</td>\n",
       "      <td>1354.60</td>\n",
       "      <td>NaN</td>\n",
       "      <td>NaN</td>\n",
       "    </tr>\n",
       "    <tr>\n",
       "      <th>4</th>\n",
       "      <td>c4d03ac6-80ed-4aa5-95c3-a730c1bf8e68</td>\n",
       "      <td>Nairobi</td>\n",
       "      <td>19.03</td>\n",
       "      <td>6.19</td>\n",
       "      <td>1.20</td>\n",
       "      <td>1655.39</td>\n",
       "      <td>single family residential</td>\n",
       "      <td>22.91</td>\n",
       "      <td>5.31</td>\n",
       "      <td>1378.00</td>\n",
       "      <td>NaN</td>\n",
       "      <td>NaN</td>\n",
       "    </tr>\n",
       "  </tbody>\n",
       "</table>\n",
       "</div>"
      ],
      "text/plain": [
       "                                ï»¿uuid     City  Surface_area  \\\n",
       "0  87100c54-0648-4e73-97f0-3a346c068231  Nairobi        204.53   \n",
       "1  b79fedd1-7c84-4b3f-8fd4-941f3ee17b02  Nairobi       1113.35   \n",
       "2  50ece267-f41a-4bb7-8874-3bf61a9d4aec  Nairobi        577.24   \n",
       "3  df402f1c-5120-4a2f-bb8f-c72c89666c6f  Nairobi         28.58   \n",
       "4  c4d03ac6-80ed-4aa5-95c3-a730c1bf8e68  Nairobi         19.03   \n",
       "\n",
       "   Potential_installable_area  Peak_installable_capacity  \\\n",
       "0                       77.27                      14.99   \n",
       "1                      676.13                     131.17   \n",
       "2                      412.30                      79.99   \n",
       "3                       14.17                       2.75   \n",
       "4                        6.19                       1.20   \n",
       "\n",
       "   Energy_potential_per_year      Assumed_building_type  Estimated_tilt  \\\n",
       "0                   21720.76  single family residential           14.11   \n",
       "1                  182191.10  single family residential           21.81   \n",
       "2                  115637.95  single family residential           16.34   \n",
       "3                    3723.02  single family residential           23.71   \n",
       "4                    1655.39  single family residential           22.91   \n",
       "\n",
       "   Estimated_building_height  Estimated_capacity_factor  \\\n",
       "0                       9.09                    1449.00   \n",
       "1                       5.57                    1388.98   \n",
       "2                       5.78                    1445.72   \n",
       "3                       4.04                    1354.60   \n",
       "4                       5.31                    1378.00   \n",
       "\n",
       "   Unit_installation_price Comment  \n",
       "0                      NaN     NaN  \n",
       "1                      NaN     NaN  \n",
       "2                      NaN     NaN  \n",
       "3                      NaN     NaN  \n",
       "4                      NaN     NaN  "
      ]
     },
     "execution_count": 8,
     "metadata": {},
     "output_type": "execute_result"
    }
   ],
   "source": [
    "df.head()"
   ]
  },
  {
   "cell_type": "markdown",
   "metadata": {},
   "source": [
    "## EDA"
   ]
  },
  {
   "cell_type": "code",
   "execution_count": 17,
   "metadata": {},
   "outputs": [
    {
     "name": "stdout",
     "output_type": "stream",
     "text": [
      "DataFrame Info:\n",
      "<class 'pandas.core.frame.DataFrame'>\n",
      "RangeIndex: 272751 entries, 0 to 272750\n",
      "Data columns (total 12 columns):\n",
      " #   Column                      Non-Null Count   Dtype  \n",
      "---  ------                      --------------   -----  \n",
      " 0   ï»¿uuid                     272751 non-null  object \n",
      " 1   City                        272751 non-null  object \n",
      " 2   Surface_area                272751 non-null  float64\n",
      " 3   Potential_installable_area  272751 non-null  float64\n",
      " 4   Peak_installable_capacity   272751 non-null  float64\n",
      " 5   Energy_potential_per_year   272751 non-null  float64\n",
      " 6   Assumed_building_type       272751 non-null  object \n",
      " 7   Estimated_tilt              272751 non-null  float64\n",
      " 8   Estimated_building_height   272721 non-null  float64\n",
      " 9   Estimated_capacity_factor   269249 non-null  float64\n",
      " 10  Unit_installation_price     0 non-null       float64\n",
      " 11  Comment                     2 non-null       object \n",
      "dtypes: float64(8), object(4)\n",
      "memory usage: 25.0+ MB\n",
      "None\n"
     ]
    }
   ],
   "source": [
    "#  DataFrame Info\n",
    "print(\"DataFrame Info:\")\n",
    "print(df.info())"
   ]
  },
  {
   "cell_type": "code",
   "execution_count": 19,
   "metadata": {},
   "outputs": [
    {
     "name": "stdout",
     "output_type": "stream",
     "text": [
      "\n",
      "Unique Values:\n",
      "ï»¿uuid                       272751\n",
      "City                               1\n",
      "Surface_area                   48703\n",
      "Potential_installable_area     35194\n",
      "Peak_installable_capacity      12787\n",
      "Energy_potential_per_year     259851\n",
      "Assumed_building_type              6\n",
      "Estimated_tilt                  3061\n",
      "Estimated_building_height       4910\n",
      "Estimated_capacity_factor      14371\n",
      "Unit_installation_price            0\n",
      "Comment                            1\n",
      "dtype: int64\n"
     ]
    }
   ],
   "source": [
    "# Unique Values\n",
    "print(\"\\nUnique Values:\")\n",
    "print(df.nunique())"
   ]
  },
  {
   "cell_type": "code",
   "execution_count": 24,
   "metadata": {},
   "outputs": [
    {
     "name": "stdout",
     "output_type": "stream",
     "text": [
      "\n",
      "Unique values in categorical columns:\n",
      "\n",
      "ï»¿uuid:\n",
      "['87100c54-0648-4e73-97f0-3a346c068231'\n",
      " 'b79fedd1-7c84-4b3f-8fd4-941f3ee17b02'\n",
      " '50ece267-f41a-4bb7-8874-3bf61a9d4aec' ...\n",
      " 'abb75046-2851-4c62-a123-7d052a098c7b'\n",
      " 'd5238d1b-b7f1-47ed-bda8-7d815cee01d4'\n",
      " '91f9e7ba-e889-45bc-8f73-603a3a8f203e']\n",
      "\n",
      "City:\n",
      "['Nairobi']\n",
      "\n",
      "Assumed_building_type:\n",
      "['single family residential' 'commercial' 'public' 'industrial'\n",
      " 'multi-family residential' 'peri-urban settlement']\n",
      "\n",
      "Comment:\n",
      "[nan 'commercial']\n"
     ]
    }
   ],
   "source": [
    "# 4. Check unique values in categorical columns\n",
    "print(\"\\nUnique values in categorical columns:\")\n",
    "categorical_columns = df.select_dtypes(include=['object']).columns\n",
    "for column in categorical_columns:\n",
    "    print(f\"\\n{column}:\")\n",
    "    print(df[column].unique())# 4. Check unique values in categorical columns\n"
   ]
  },
  {
   "cell_type": "code",
   "execution_count": 25,
   "metadata": {},
   "outputs": [
    {
     "name": "stdout",
     "output_type": "stream",
     "text": [
      "\n",
      "Value counts for specific columns:\n",
      "City:\n",
      "City\n",
      "Nairobi    272751\n",
      "Name: count, dtype: int64\n"
     ]
    }
   ],
   "source": [
    "#  Check value counts for specific columns\n",
    "print(\"\\nValue counts for specific columns:\")\n",
    "print(\"City:\")\n",
    "print(df['City'].value_counts())"
   ]
  },
  {
   "cell_type": "code",
   "execution_count": 21,
   "metadata": {},
   "outputs": [
    {
     "name": "stdout",
     "output_type": "stream",
     "text": [
      "\n",
      "Exploring different columns:\n",
      "\n",
      "Summary statistics for numerical columns:\n",
      "        Surface_area  Potential_installable_area  Peak_installable_capacity  \\\n",
      "count  272751.000000               272751.000000              272751.000000   \n",
      "mean      147.257428                   83.791388                  16.255633   \n",
      "std       265.736752                  189.906731                  36.843159   \n",
      "min         0.000000                    0.000000                   0.000000   \n",
      "25%        46.880000                   20.540000                   3.990000   \n",
      "50%        92.490000                   45.470000                   8.820000   \n",
      "75%       169.420000                   89.040000                  17.270000   \n",
      "max     57820.170000                42535.330000                8251.850000   \n",
      "\n",
      "       Energy_potential_per_year  Estimated_tilt  Estimated_building_height  \\\n",
      "count               2.727510e+05   272751.000000              272721.000000   \n",
      "mean                2.396997e+04       12.509193                   6.204000   \n",
      "std                 5.495253e+04        6.145312                   8.470971   \n",
      "min                 0.000000e+00        0.000000                 -14.350000   \n",
      "25%                 5.870130e+03        7.310000                   2.650000   \n",
      "50%                 1.297836e+04       12.560000                   4.060000   \n",
      "75%                 2.545399e+04       17.400000                   7.360000   \n",
      "max                 1.250156e+07       37.210000                 464.430000   \n",
      "\n",
      "       Estimated_capacity_factor  Unit_installation_price  \n",
      "count              269249.000000                      0.0  \n",
      "mean                 1473.151358                      NaN  \n",
      "std                    35.090302                      NaN  \n",
      "min                  1238.000000                      NaN  \n",
      "25%                  1453.000000                      NaN  \n",
      "50%                  1479.000000                      NaN  \n",
      "75%                  1499.820000                      NaN  \n",
      "max                  1534.000000                      NaN  \n"
     ]
    }
   ],
   "source": [
    "# Explore different columns\n",
    "print(\"\\nExploring different columns:\")\n",
    "# 1. Display summary statistics for numerical columns\n",
    "print(\"\\nSummary statistics for numerical columns:\")\n",
    "print(df.describe())"
   ]
  },
  {
   "cell_type": "code",
   "execution_count": 22,
   "metadata": {},
   "outputs": [
    {
     "name": "stdout",
     "output_type": "stream",
     "text": [
      "\n",
      "Data types of columns:\n",
      "ï»¿uuid                        object\n",
      "City                           object\n",
      "Surface_area                  float64\n",
      "Potential_installable_area    float64\n",
      "Peak_installable_capacity     float64\n",
      "Energy_potential_per_year     float64\n",
      "Assumed_building_type          object\n",
      "Estimated_tilt                float64\n",
      "Estimated_building_height     float64\n",
      "Estimated_capacity_factor     float64\n",
      "Unit_installation_price       float64\n",
      "Comment                        object\n",
      "dtype: object\n"
     ]
    }
   ],
   "source": [
    "# Check data types of columns\n",
    "print(\"\\nData types of columns:\")\n",
    "print(df.dtypes)"
   ]
  }
 ],
 "metadata": {
  "kernelspec": {
   "display_name": "learn-env",
   "language": "python",
   "name": "python3"
  },
  "language_info": {
   "codemirror_mode": {
    "name": "ipython",
    "version": 3
   },
   "file_extension": ".py",
   "mimetype": "text/x-python",
   "name": "python",
   "nbconvert_exporter": "python",
   "pygments_lexer": "ipython3",
   "version": "3.10.11"
  }
 },
 "nbformat": 4,
 "nbformat_minor": 2
}
